{
 "cells": [
  {
   "cell_type": "code",
   "execution_count": 1,
   "id": "a4792056-16b9-4121-9e4e-262382ad26c4",
   "metadata": {},
   "outputs": [],
   "source": [
    "from torch import nn, sqrt\n",
    "import torch\n",
    "import sys\n",
    "from math import sqrt\n",
    "\n",
    "import sys\n",
    "sys.path.append('../')\n",
    "\n",
    "from coatnet import *"
   ]
  },
  {
   "cell_type": "code",
   "execution_count": 2,
   "id": "c2c82ee0-855a-469b-bd10-642189f61508",
   "metadata": {},
   "outputs": [],
   "source": [
    "import easydict \n",
    "args = easydict.EasyDict({ \"batch_size\": 32, \n",
    "                          \"epochs\": 30, \n",
    "                          \"data\": 0, \n",
    "                          'lr':0.01,\n",
    "                         'momentum':0.9,\n",
    "                         'weight_decay':1e-4,\n",
    "                         'start_epoch':0,\n",
    "                         'gpu':0,\n",
    "                          'workers':32,\n",
    "                         'print_freq':2000,\n",
    "                         'saved_dir':'../trained_models/checkpoint.pt'})"
   ]
  },
  {
   "cell_type": "code",
   "execution_count": 3,
   "id": "b164bc8e-6e89-46c7-9bd3-ecfefb46f8fc",
   "metadata": {},
   "outputs": [],
   "source": [
    "# x=torch.randn(2,3,224,224)\n",
    "# model=CoAtNet(3,224)\n",
    "# out = model(x)\n",
    "# print(out.shape)"
   ]
  },
  {
   "cell_type": "code",
   "execution_count": 4,
   "id": "4028643a-8526-4ce6-bf9c-2a147043b50f",
   "metadata": {},
   "outputs": [],
   "source": [
    "# Data loading code\n",
    "import os\n",
    "import torchvision.transforms as transforms\n",
    "import torchvision.datasets as datasets\n",
    "\n",
    "path = '../ILSVRC/Data/CLS-LOC/'\n",
    "traindir = os.path.join(path, 'train')\n",
    "valdir = os.path.join(path, 'val')\n",
    "normalize = transforms.Normalize(mean=[0.485, 0.456, 0.406],\n",
    "                                 std=[0.229, 0.224, 0.225])\n",
    "\n",
    "train_dataset = datasets.ImageFolder(\n",
    "    traindir,\n",
    "    transforms.Compose([\n",
    "        transforms.RandomResizedCrop(224),\n",
    "        transforms.RandomHorizontalFlip(),\n",
    "        transforms.ToTensor(),\n",
    "        normalize,\n",
    "    ]))"
   ]
  },
  {
   "cell_type": "code",
   "execution_count": 5,
   "id": "9264af8b-2654-4310-9154-b400852acd02",
   "metadata": {},
   "outputs": [],
   "source": [
    "# train_sampler = torch.utils.data.distributed.DistributedSampler(train_dataset)\n",
    "train_sampler = None\n",
    "train_loader = torch.utils.data.DataLoader(\n",
    "    train_dataset, batch_size=32, shuffle=(train_sampler is None),\n",
    "    num_workers=4, pin_memory=False, sampler=train_sampler)"
   ]
  },
  {
   "cell_type": "code",
   "execution_count": 6,
   "id": "e907f65f-0bd1-442a-a8cb-ba0a0e54f3a7",
   "metadata": {},
   "outputs": [],
   "source": [
    "# (train_sampler is None)"
   ]
  },
  {
   "cell_type": "code",
   "execution_count": 7,
   "id": "b3814464-5627-46a8-99f8-f3caa67dd9f0",
   "metadata": {},
   "outputs": [],
   "source": [
    "images, labels = next(iter(train_loader))\n",
    "images = images.cuda()\n",
    "labels = labels.cuda()"
   ]
  },
  {
   "cell_type": "code",
   "execution_count": 8,
   "id": "8543651a-92f7-4632-ac3e-b6c216307add",
   "metadata": {},
   "outputs": [
    {
     "name": "stderr",
     "output_type": "stream",
     "text": [
      "/home/beomgon/anaconda3/envs/pytorch/lib/python3.8/site-packages/torch/functional.py:445: UserWarning: torch.meshgrid: in an upcoming release, it will be required to pass the indexing argument. (Triggered internally at  /opt/conda/conda-bld/pytorch_1634272068694/work/aten/src/ATen/native/TensorShape.cpp:2157.)\n",
      "  return _VF.meshgrid(tensors, **kwargs)  # type: ignore[attr-defined]\n"
     ]
    },
    {
     "name": "stdout",
     "output_type": "stream",
     "text": [
      "initialized\n"
     ]
    }
   ],
   "source": [
    "model=coatnet_0().cuda()\n",
    "out = model(images)"
   ]
  },
  {
   "cell_type": "code",
   "execution_count": 9,
   "id": "baab95f3-e403-4402-9e46-c824abe5c390",
   "metadata": {},
   "outputs": [
    {
     "data": {
      "text/plain": [
       "tensor([531, 555, 601, 736, 677,  33, 512, 657, 917, 501, 790, 173, 312, 475,\n",
       "        815, 674, 315, 754, 570, 807, 296, 529,  44, 622, 570, 486, 960, 784,\n",
       "        328, 466, 746, 414], device='cuda:0')"
      ]
     },
     "execution_count": 9,
     "metadata": {},
     "output_type": "execute_result"
    }
   ],
   "source": [
    "labels"
   ]
  },
  {
   "cell_type": "code",
   "execution_count": 10,
   "id": "e3666ba3-dbf3-4dad-b9c4-cc9262ffd8e6",
   "metadata": {},
   "outputs": [
    {
     "name": "stdout",
     "output_type": "stream",
     "text": [
      "torch.Size([32, 1000])\n"
     ]
    }
   ],
   "source": [
    "print(out.shape)"
   ]
  },
  {
   "cell_type": "code",
   "execution_count": 11,
   "id": "5fe96f55-d501-4f0a-b98d-2f5d6f4f2db1",
   "metadata": {},
   "outputs": [
    {
     "data": {
      "text/plain": [
       "tensor([867, 867, 867, 867, 883, 867, 867, 867, 867, 820, 293, 867, 867, 867,\n",
       "        867, 867, 883, 867, 867, 883, 867, 867, 867, 867, 867, 867, 867, 867,\n",
       "        359, 867, 867, 867], device='cuda:0')"
      ]
     },
     "execution_count": 11,
     "metadata": {},
     "output_type": "execute_result"
    }
   ],
   "source": [
    "torch.argmax(out, dim = -1)"
   ]
  },
  {
   "cell_type": "code",
   "execution_count": 12,
   "id": "8bad03e4-a789-4d48-9c61-0f9751853125",
   "metadata": {},
   "outputs": [
    {
     "data": {
      "text/plain": [
       "0.0001"
      ]
     },
     "execution_count": 12,
     "metadata": {},
     "output_type": "execute_result"
    }
   ],
   "source": [
    "args.weight_decay"
   ]
  },
  {
   "cell_type": "code",
   "execution_count": 13,
   "id": "b898b7a9-b5f5-478a-ad50-ee3a6ecfe6bf",
   "metadata": {},
   "outputs": [],
   "source": [
    "# define loss function (criterion) and optimizer\n",
    "criterion = nn.CrossEntropyLoss().cuda()\n",
    "\n",
    "optimizer = torch.optim.SGD(model.parameters(), args.lr,\n",
    "                            momentum=args.momentum,\n",
    "                            weight_decay=args.weight_decay)\n",
    "# optimizer = torch.optim.SGD(model.parameters(), 0.1)"
   ]
  },
  {
   "cell_type": "code",
   "execution_count": 14,
   "id": "87f7ca9a-0156-4b5b-a2f0-0b2b59ea94b2",
   "metadata": {},
   "outputs": [],
   "source": [
    "output = model(images)\n",
    "loss = criterion(output, labels)"
   ]
  },
  {
   "cell_type": "code",
   "execution_count": 15,
   "id": "8e852578-2a6f-400c-9f9f-451296ad3e3e",
   "metadata": {},
   "outputs": [
    {
     "data": {
      "text/plain": [
       "tensor(9.6655, device='cuda:0', grad_fn=<NllLossBackward0>)"
      ]
     },
     "execution_count": 15,
     "metadata": {},
     "output_type": "execute_result"
    }
   ],
   "source": [
    "loss"
   ]
  },
  {
   "cell_type": "code",
   "execution_count": 16,
   "id": "229b7268-8f43-4f9e-97e0-bc7f6180fcb7",
   "metadata": {},
   "outputs": [],
   "source": [
    "# model.s4.fc_q.weight.shape"
   ]
  },
  {
   "cell_type": "code",
   "execution_count": 17,
   "id": "a84a43be-d7d3-4f1f-9b8c-9bfa956eb529",
   "metadata": {},
   "outputs": [
    {
     "data": {
      "text/plain": [
       "tensor([[ 0.0044, -0.0150,  0.0119,  ...,  0.0085, -0.0020,  0.0304],\n",
       "        [-0.0327,  0.0088,  0.0080,  ..., -0.0007, -0.0302, -0.0132],\n",
       "        [ 0.0263, -0.0051, -0.0282,  ...,  0.0054, -0.0325,  0.0004],\n",
       "        ...,\n",
       "        [ 0.0047,  0.0240,  0.0179,  ...,  0.0115,  0.0091,  0.0306],\n",
       "        [-0.0266, -0.0221, -0.0271,  ..., -0.0103, -0.0120, -0.0068],\n",
       "        [ 0.0159,  0.0119, -0.0166,  ...,  0.0236,  0.0216,  0.0035]],\n",
       "       device='cuda:0')"
      ]
     },
     "execution_count": 17,
     "metadata": {},
     "output_type": "execute_result"
    }
   ],
   "source": [
    "# model.s4.fc_q.weight[0, :10]\n",
    "param = model.fc.weight.detach().clone()\n",
    "param"
   ]
  },
  {
   "cell_type": "code",
   "execution_count": 18,
   "id": "774f1edc-46ae-4e64-a775-5b47b8804ceb",
   "metadata": {},
   "outputs": [],
   "source": [
    "# loss.backward()k"
   ]
  },
  {
   "cell_type": "code",
   "execution_count": 19,
   "id": "dffa3056-3f9e-4e93-b792-c2d8f14b9158",
   "metadata": {},
   "outputs": [],
   "source": [
    "optimizer.zero_grad()\n",
    "loss.backward()\n",
    "optimizer.step()"
   ]
  },
  {
   "cell_type": "code",
   "execution_count": 20,
   "id": "51f86688-7eb9-42af-a57e-4d98119f4050",
   "metadata": {},
   "outputs": [
    {
     "data": {
      "text/plain": [
       "tensor([ 8.4218e-04, -4.2140e-04, -4.9456e-04,  8.6718e-04, -7.9978e-04,\n",
       "         2.8528e-04, -5.3555e-04,  5.8701e-04,  2.1346e-05, -2.7519e-04],\n",
       "       device='cuda:0')"
      ]
     },
     "execution_count": 20,
     "metadata": {},
     "output_type": "execute_result"
    }
   ],
   "source": [
    "model.fc.weight.grad[0,:10]"
   ]
  },
  {
   "cell_type": "code",
   "execution_count": 21,
   "id": "c8ae83d3-ae99-4a8e-bb5e-9aa6a5f5cb1c",
   "metadata": {},
   "outputs": [
    {
     "data": {
      "text/plain": [
       "tensor([ 0.0044, -0.0150,  0.0119, -0.0344, -0.0279, -0.0348, -0.0132,  0.0086,\n",
       "         0.0354,  0.0167], device='cuda:0', grad_fn=<SliceBackward0>)"
      ]
     },
     "execution_count": 21,
     "metadata": {},
     "output_type": "execute_result"
    }
   ],
   "source": [
    "model.fc.weight[0,:10]"
   ]
  },
  {
   "cell_type": "code",
   "execution_count": 22,
   "id": "355c3aa7-9dbb-40e1-a418-55a2442cadc0",
   "metadata": {},
   "outputs": [
    {
     "data": {
      "text/plain": [
       "tensor([[False, False, False,  ..., False, False, False],\n",
       "        [False, False, False,  ..., False, False, False],\n",
       "        [False, False, False,  ..., False, False, False],\n",
       "        ...,\n",
       "        [False, False, False,  ..., False, False, False],\n",
       "        [False, False, False,  ..., False, False, False],\n",
       "        [False, False, False,  ..., False, False, False]], device='cuda:0')"
      ]
     },
     "execution_count": 22,
     "metadata": {},
     "output_type": "execute_result"
    }
   ],
   "source": [
    "param == model.fc.weight"
   ]
  },
  {
   "cell_type": "code",
   "execution_count": 23,
   "id": "2cab5c00-4a54-4853-8d97-0dc0d60d757f",
   "metadata": {},
   "outputs": [
    {
     "name": "stdout",
     "output_type": "stream",
     "text": [
      "8.157195091247559\n",
      "tensor([ 0.0049, -0.0168,  0.0115, -0.0361, -0.0297, -0.0351, -0.0120,  0.0078,\n",
      "         0.0370,  0.0194], device='cuda:0', grad_fn=<SliceBackward0>)\n",
      "7.018538475036621\n",
      "tensor([ 0.0149, -0.0014,  0.0081, -0.0357, -0.0432, -0.0367, -0.0183,  0.0096,\n",
      "         0.0436,  0.0208], device='cuda:0', grad_fn=<SliceBackward0>)\n",
      "7.035290718078613\n",
      "tensor([ 0.0264,  0.0027,  0.0081, -0.0365, -0.0340, -0.0374, -0.0125,  0.0053,\n",
      "         0.0436,  0.0116], device='cuda:0', grad_fn=<SliceBackward0>)\n",
      "7.227688312530518\n",
      "tensor([ 0.0282,  0.0002,  0.0129, -0.0371, -0.0332, -0.0347, -0.0078,  0.0052,\n",
      "         0.0446,  0.0121], device='cuda:0', grad_fn=<SliceBackward0>)\n",
      "6.800315856933594\n",
      "tensor([ 0.0278,  0.0015,  0.0186, -0.0322, -0.0360, -0.0381, -0.0030,  0.0042,\n",
      "         0.0445,  0.0089], device='cuda:0', grad_fn=<SliceBackward0>)\n",
      "6.87434720993042\n",
      "tensor([ 0.0286, -0.0015,  0.0196, -0.0288, -0.0325, -0.0380,  0.0019,  0.0023,\n",
      "         0.0424,  0.0127], device='cuda:0', grad_fn=<SliceBackward0>)\n",
      "6.621291160583496\n",
      "tensor([ 0.0299, -0.0005,  0.0243, -0.0318, -0.0220, -0.0350, -0.0022, -0.0012,\n",
      "         0.0450,  0.0034], device='cuda:0', grad_fn=<SliceBackward0>)\n",
      "7.001885890960693\n",
      "tensor([ 0.0286, -0.0062,  0.0254, -0.0301, -0.0198, -0.0326, -0.0064, -0.0009,\n",
      "         0.0485,  0.0030], device='cuda:0', grad_fn=<SliceBackward0>)\n",
      "6.700259685516357\n",
      "tensor([ 0.0309, -0.0191,  0.0310, -0.0257, -0.0173, -0.0372, -0.0035,  0.0075,\n",
      "         0.0589,  0.0081], device='cuda:0', grad_fn=<SliceBackward0>)\n",
      "6.432096004486084\n",
      "tensor([ 0.0311, -0.0180,  0.0300, -0.0196, -0.0146, -0.0289, -0.0053,  0.0049,\n",
      "         0.0600,  0.0048], device='cuda:0', grad_fn=<SliceBackward0>)\n",
      "6.6537322998046875\n",
      "tensor([ 0.0330, -0.0211,  0.0292, -0.0217, -0.0141, -0.0278, -0.0072,  0.0057,\n",
      "         0.0556,  0.0050], device='cuda:0', grad_fn=<SliceBackward0>)\n",
      "6.47758150100708\n",
      "tensor([ 0.0341, -0.0234,  0.0346, -0.0245, -0.0127, -0.0258, -0.0093,  0.0069,\n",
      "         0.0569,  0.0037], device='cuda:0', grad_fn=<SliceBackward0>)\n",
      "5.912100315093994\n",
      "tensor([ 0.0333, -0.0214,  0.0346, -0.0252, -0.0112, -0.0253, -0.0088,  0.0071,\n",
      "         0.0579,  0.0058], device='cuda:0', grad_fn=<SliceBackward0>)\n",
      "6.530875205993652\n",
      "tensor([ 0.0332, -0.0208,  0.0342, -0.0244, -0.0119, -0.0262, -0.0097,  0.0092,\n",
      "         0.0587,  0.0087], device='cuda:0', grad_fn=<SliceBackward0>)\n",
      "6.191617012023926\n",
      "tensor([ 0.0324, -0.0211,  0.0335, -0.0241, -0.0063, -0.0280, -0.0072,  0.0090,\n",
      "         0.0585,  0.0064], device='cuda:0', grad_fn=<SliceBackward0>)\n",
      "6.276998996734619\n",
      "tensor([ 0.0316, -0.0245,  0.0324, -0.0268, -0.0031, -0.0289, -0.0030,  0.0088,\n",
      "         0.0636,  0.0041], device='cuda:0', grad_fn=<SliceBackward0>)\n",
      "6.178544998168945\n",
      "tensor([ 0.0289, -0.0199,  0.0301, -0.0274, -0.0019, -0.0304, -0.0002,  0.0106,\n",
      "         0.0673,  0.0051], device='cuda:0', grad_fn=<SliceBackward0>)\n",
      "6.008562088012695\n",
      "tensor([ 0.0265, -0.0160,  0.0301, -0.0245, -0.0017, -0.0287,  0.0044,  0.0054,\n",
      "         0.0694,  0.0008], device='cuda:0', grad_fn=<SliceBackward0>)\n",
      "6.085740566253662\n",
      "tensor([ 0.0228, -0.0122,  0.0318, -0.0219, -0.0064, -0.0284,  0.0023,  0.0123,\n",
      "         0.0719,  0.0046], device='cuda:0', grad_fn=<SliceBackward0>)\n",
      "6.427650451660156\n",
      "tensor([ 0.0217, -0.0088,  0.0285, -0.0199, -0.0083, -0.0277,  0.0005,  0.0149,\n",
      "         0.0707,  0.0062], device='cuda:0', grad_fn=<SliceBackward0>)\n",
      "6.034926891326904\n",
      "tensor([ 0.0225, -0.0100,  0.0290, -0.0208, -0.0106, -0.0261, -0.0013,  0.0177,\n",
      "         0.0705,  0.0072], device='cuda:0', grad_fn=<SliceBackward0>)\n",
      "5.762667179107666\n",
      "tensor([ 0.0225, -0.0068,  0.0289, -0.0224, -0.0120, -0.0275, -0.0036,  0.0230,\n",
      "         0.0755,  0.0065], device='cuda:0', grad_fn=<SliceBackward0>)\n",
      "6.054830074310303\n",
      "tensor([ 0.0256, -0.0053,  0.0306, -0.0200, -0.0117, -0.0255, -0.0014,  0.0176,\n",
      "         0.0741,  0.0062], device='cuda:0', grad_fn=<SliceBackward0>)\n",
      "6.226078033447266\n",
      "tensor([ 3.4493e-02, -3.8743e-03,  3.2422e-02, -1.7666e-02, -8.0030e-03,\n",
      "        -2.8070e-02,  5.7197e-04,  1.0973e-02,  7.5746e-02,  7.1686e-05],\n",
      "       device='cuda:0', grad_fn=<SliceBackward0>)\n",
      "5.807032108306885\n",
      "tensor([ 0.0316, -0.0003,  0.0324, -0.0176, -0.0051, -0.0304, -0.0003,  0.0052,\n",
      "         0.0820, -0.0016], device='cuda:0', grad_fn=<SliceBackward0>)\n",
      "5.5889692306518555\n",
      "tensor([ 0.0350,  0.0017,  0.0313, -0.0123, -0.0069, -0.0305, -0.0065,  0.0096,\n",
      "         0.0765, -0.0026], device='cuda:0', grad_fn=<SliceBackward0>)\n",
      "5.751071453094482\n",
      "tensor([ 0.0386,  0.0016,  0.0314, -0.0131, -0.0078, -0.0332, -0.0101,  0.0131,\n",
      "         0.0753, -0.0048], device='cuda:0', grad_fn=<SliceBackward0>)\n",
      "5.55064058303833\n",
      "tensor([ 0.0371, -0.0011,  0.0328, -0.0172, -0.0067, -0.0356, -0.0107,  0.0179,\n",
      "         0.0760, -0.0010], device='cuda:0', grad_fn=<SliceBackward0>)\n",
      "5.645236492156982\n",
      "tensor([ 0.0372, -0.0026,  0.0344, -0.0186, -0.0071, -0.0345, -0.0122,  0.0174,\n",
      "         0.0754, -0.0033], device='cuda:0', grad_fn=<SliceBackward0>)\n",
      "5.847860813140869\n",
      "tensor([ 0.0390, -0.0028,  0.0338, -0.0196, -0.0112, -0.0336, -0.0164,  0.0172,\n",
      "         0.0759, -0.0044], device='cuda:0', grad_fn=<SliceBackward0>)\n",
      "5.910504341125488\n",
      "tensor([ 0.0362, -0.0013,  0.0343, -0.0228, -0.0115, -0.0333, -0.0165,  0.0155,\n",
      "         0.0750, -0.0049], device='cuda:0', grad_fn=<SliceBackward0>)\n",
      "6.044935703277588\n",
      "tensor([ 0.0383,  0.0011,  0.0312, -0.0211, -0.0112, -0.0324, -0.0141,  0.0101,\n",
      "         0.0790, -0.0118], device='cuda:0', grad_fn=<SliceBackward0>)\n"
     ]
    },
    {
     "name": "stderr",
     "output_type": "stream",
     "text": [
      "Exception ignored in: <function WeakValueDictionary.__init__.<locals>.remove at 0x2b0b5366bd30>\n",
      "Traceback (most recent call last):\n",
      "  File \"/home/beomgon/anaconda3/envs/pytorch/lib/python3.8/weakref.py\", line 103, in remove\n",
      "    def remove(wr, selfref=ref(self), _atomic_removal=_remove_dead_weakref):\n",
      "KeyboardInterrupt: \n"
     ]
    },
    {
     "ename": "KeyboardInterrupt",
     "evalue": "",
     "output_type": "error",
     "traceback": [
      "\u001b[0;31m---------------------------------------------------------------------------\u001b[0m",
      "\u001b[0;31mKeyboardInterrupt\u001b[0m                         Traceback (most recent call last)",
      "\u001b[0;32m/tmp/ipykernel_160190/2557126929.py\u001b[0m in \u001b[0;36m<module>\u001b[0;34m\u001b[0m\n\u001b[1;32m     18\u001b[0m     \u001b[0;31m# compute gradient and do SGD step\u001b[0m\u001b[0;34m\u001b[0m\u001b[0;34m\u001b[0m\u001b[0;34m\u001b[0m\u001b[0m\n\u001b[1;32m     19\u001b[0m     \u001b[0moptimizer\u001b[0m\u001b[0;34m.\u001b[0m\u001b[0mzero_grad\u001b[0m\u001b[0;34m(\u001b[0m\u001b[0;34m)\u001b[0m\u001b[0;34m\u001b[0m\u001b[0;34m\u001b[0m\u001b[0m\n\u001b[0;32m---> 20\u001b[0;31m     \u001b[0mloss\u001b[0m\u001b[0;34m.\u001b[0m\u001b[0mbackward\u001b[0m\u001b[0;34m(\u001b[0m\u001b[0;34m)\u001b[0m\u001b[0;34m\u001b[0m\u001b[0;34m\u001b[0m\u001b[0m\n\u001b[0m\u001b[1;32m     21\u001b[0m     \u001b[0moptimizer\u001b[0m\u001b[0;34m.\u001b[0m\u001b[0mstep\u001b[0m\u001b[0;34m(\u001b[0m\u001b[0;34m)\u001b[0m\u001b[0;34m\u001b[0m\u001b[0;34m\u001b[0m\u001b[0m\n",
      "\u001b[0;32m~/anaconda3/envs/pytorch/lib/python3.8/site-packages/torch/_tensor.py\u001b[0m in \u001b[0;36mbackward\u001b[0;34m(self, gradient, retain_graph, create_graph, inputs)\u001b[0m\n\u001b[1;32m    305\u001b[0m                 \u001b[0mcreate_graph\u001b[0m\u001b[0;34m=\u001b[0m\u001b[0mcreate_graph\u001b[0m\u001b[0;34m,\u001b[0m\u001b[0;34m\u001b[0m\u001b[0;34m\u001b[0m\u001b[0m\n\u001b[1;32m    306\u001b[0m                 inputs=inputs)\n\u001b[0;32m--> 307\u001b[0;31m         \u001b[0mtorch\u001b[0m\u001b[0;34m.\u001b[0m\u001b[0mautograd\u001b[0m\u001b[0;34m.\u001b[0m\u001b[0mbackward\u001b[0m\u001b[0;34m(\u001b[0m\u001b[0mself\u001b[0m\u001b[0;34m,\u001b[0m \u001b[0mgradient\u001b[0m\u001b[0;34m,\u001b[0m \u001b[0mretain_graph\u001b[0m\u001b[0;34m,\u001b[0m \u001b[0mcreate_graph\u001b[0m\u001b[0;34m,\u001b[0m \u001b[0minputs\u001b[0m\u001b[0;34m=\u001b[0m\u001b[0minputs\u001b[0m\u001b[0;34m)\u001b[0m\u001b[0;34m\u001b[0m\u001b[0;34m\u001b[0m\u001b[0m\n\u001b[0m\u001b[1;32m    308\u001b[0m \u001b[0;34m\u001b[0m\u001b[0m\n\u001b[1;32m    309\u001b[0m     \u001b[0;32mdef\u001b[0m \u001b[0mregister_hook\u001b[0m\u001b[0;34m(\u001b[0m\u001b[0mself\u001b[0m\u001b[0;34m,\u001b[0m \u001b[0mhook\u001b[0m\u001b[0;34m)\u001b[0m\u001b[0;34m:\u001b[0m\u001b[0;34m\u001b[0m\u001b[0;34m\u001b[0m\u001b[0m\n",
      "\u001b[0;32m~/anaconda3/envs/pytorch/lib/python3.8/site-packages/torch/autograd/__init__.py\u001b[0m in \u001b[0;36mbackward\u001b[0;34m(tensors, grad_tensors, retain_graph, create_graph, grad_variables, inputs)\u001b[0m\n\u001b[1;32m    152\u001b[0m         \u001b[0mretain_graph\u001b[0m \u001b[0;34m=\u001b[0m \u001b[0mcreate_graph\u001b[0m\u001b[0;34m\u001b[0m\u001b[0;34m\u001b[0m\u001b[0m\n\u001b[1;32m    153\u001b[0m \u001b[0;34m\u001b[0m\u001b[0m\n\u001b[0;32m--> 154\u001b[0;31m     Variable._execution_engine.run_backward(\n\u001b[0m\u001b[1;32m    155\u001b[0m         \u001b[0mtensors\u001b[0m\u001b[0;34m,\u001b[0m \u001b[0mgrad_tensors_\u001b[0m\u001b[0;34m,\u001b[0m \u001b[0mretain_graph\u001b[0m\u001b[0;34m,\u001b[0m \u001b[0mcreate_graph\u001b[0m\u001b[0;34m,\u001b[0m \u001b[0minputs\u001b[0m\u001b[0;34m,\u001b[0m\u001b[0;34m\u001b[0m\u001b[0;34m\u001b[0m\u001b[0m\n\u001b[1;32m    156\u001b[0m         allow_unreachable=True, accumulate_grad=True)  # allow_unreachable flag\n",
      "\u001b[0;31mKeyboardInterrupt\u001b[0m: "
     ]
    }
   ],
   "source": [
    "for i, (images, target) in enumerate(train_loader):\n",
    "    # measure data loading time\n",
    "#     data_time.update(time.time() - end)\n",
    "\n",
    "    if args.gpu is not None:\n",
    "        images = images.cuda(args.gpu, non_blocking=True)\n",
    "    if torch.cuda.is_available():\n",
    "        target = target.cuda(args.gpu, non_blocking=True)\n",
    "\n",
    "    # compute output\n",
    "    output = model(images)\n",
    "    loss = criterion(output, target)\n",
    "    if i % 100 == 20 :\n",
    "#         print(model.fc.weight.grad[0,:10])\n",
    "        print(loss.item())\n",
    "        print(model.fc.weight[0,:10])\n",
    "\n",
    "    # compute gradient and do SGD step\n",
    "    optimizer.zero_grad()\n",
    "    loss.backward()\n",
    "    optimizer.step()"
   ]
  },
  {
   "cell_type": "code",
   "execution_count": null,
   "id": "6e4afc2f-f578-4836-ac31-fad46603e895",
   "metadata": {},
   "outputs": [],
   "source": []
  },
  {
   "cell_type": "code",
   "execution_count": null,
   "id": "339a6528-ed2e-41fa-bda5-87228c88e3ff",
   "metadata": {},
   "outputs": [],
   "source": []
  },
  {
   "cell_type": "code",
   "execution_count": null,
   "id": "1ef54e94-dc94-465f-80fb-cbdcab3ffe1f",
   "metadata": {},
   "outputs": [],
   "source": []
  }
 ],
 "metadata": {
  "kernelspec": {
   "display_name": "pytorch",
   "language": "python",
   "name": "pytorch"
  },
  "language_info": {
   "codemirror_mode": {
    "name": "ipython",
    "version": 3
   },
   "file_extension": ".py",
   "mimetype": "text/x-python",
   "name": "python",
   "nbconvert_exporter": "python",
   "pygments_lexer": "ipython3",
   "version": "3.8.11"
  }
 },
 "nbformat": 4,
 "nbformat_minor": 5
}
