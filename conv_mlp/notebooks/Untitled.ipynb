{
 "cells": [
  {
   "cell_type": "code",
   "execution_count": 21,
   "id": "3d1722a2-4016-4625-9b7e-721772e5cfa8",
   "metadata": {},
   "outputs": [],
   "source": []
  },
  {
   "cell_type": "code",
   "execution_count": 48,
   "id": "77b315e1-545f-47ce-b9b6-f95835e5b964",
   "metadata": {},
   "outputs": [
    {
     "data": {
      "text/plain": [
       "torch.Size([2, 3, 256, 256])"
      ]
     },
     "execution_count": 48,
     "metadata": {},
     "output_type": "execute_result"
    }
   ],
   "source": [
    "a = torch.randn(2,3,256,256)\n",
    "a.shape"
   ]
  },
  {
   "cell_type": "code",
   "execution_count": 49,
   "id": "d1c7ec74-66c5-42b3-9151-9f8cab65a129",
   "metadata": {},
   "outputs": [
    {
     "data": {
      "text/plain": [
       "torch.Size([2, 12, 128, 128])"
      ]
     },
     "execution_count": 49,
     "metadata": {},
     "output_type": "execute_result"
    }
   ],
   "source": [
    "a = a.view(2,3,2,128,2,128).permute(0,1, 2,4,3,5).contiguous().view(2,-1,128,128)\n",
    "a.shape"
   ]
  },
  {
   "cell_type": "code",
   "execution_count": 36,
   "id": "21956556-abd6-4aab-83c5-9458fb073f04",
   "metadata": {},
   "outputs": [],
   "source": [
    "# a = a.conti.view(-1, 64,64,3)\n",
    "# a.shape"
   ]
  },
  {
   "cell_type": "code",
   "execution_count": 50,
   "id": "ab9a0c01-5746-4f1f-89b0-b0473545cd3b",
   "metadata": {},
   "outputs": [],
   "source": [
    "conv2d = nn.Conv2d(\n",
    "    12,\n",
    "    32*4,\n",
    "    kernel_size=3,\n",
    "    padding=1,\n",
    "    stride=2,\n",
    "    bias=False,\n",
    "    groups=4\n",
    ")"
   ]
  },
  {
   "cell_type": "code",
   "execution_count": 51,
   "id": "85417022-eeb9-4728-a695-72fe8e2b243d",
   "metadata": {},
   "outputs": [
    {
     "data": {
      "text/plain": [
       "torch.Size([2, 128, 64, 64])"
      ]
     },
     "execution_count": 51,
     "metadata": {},
     "output_type": "execute_result"
    }
   ],
   "source": [
    "out = conv2d(a)\n",
    "out.shape"
   ]
  },
  {
   "cell_type": "code",
   "execution_count": 52,
   "id": "d707e0a7-6328-4fff-a8d0-f01496c495b7",
   "metadata": {},
   "outputs": [
    {
     "data": {
      "text/plain": [
       "torch.Size([2, 32, 4, 64, 64])"
      ]
     },
     "execution_count": 52,
     "metadata": {},
     "output_type": "execute_result"
    }
   ],
   "source": [
    "out = out.view(2, 32,4, 64,64)\n",
    "out.shape"
   ]
  },
  {
   "cell_type": "code",
   "execution_count": 53,
   "id": "12917382-00ac-4f43-858f-9cb20c976bc5",
   "metadata": {},
   "outputs": [
    {
     "data": {
      "text/plain": [
       "torch.Size([2, 32, 2, 64, 2, 64])"
      ]
     },
     "execution_count": 53,
     "metadata": {},
     "output_type": "execute_result"
    }
   ],
   "source": [
    "out = out.view(2,32, 2,2,64,64).permute(0,1,2,4,3,5)\n",
    "out.shape"
   ]
  },
  {
   "cell_type": "code",
   "execution_count": 54,
   "id": "4a57c97e-4dba-4aed-8b16-3c037aba7291",
   "metadata": {},
   "outputs": [
    {
     "data": {
      "text/plain": [
       "torch.Size([2, 32, 128, 128])"
      ]
     },
     "execution_count": 54,
     "metadata": {},
     "output_type": "execute_result"
    }
   ],
   "source": [
    "out = out.contiguous().view(2,32,128,128)\n",
    "out.shape"
   ]
  },
  {
   "cell_type": "code",
   "execution_count": 1,
   "id": "ede7ce35-8cfc-47da-89a7-df1a63fc6ab4",
   "metadata": {},
   "outputs": [],
   "source": [
    "import torch\n",
    "import torch.nn as nn\n",
    "import sys\n",
    "sys.path.append('../')"
   ]
  },
  {
   "cell_type": "code",
   "execution_count": 2,
   "id": "ea43aa75-82df-4378-af19-b09e6cbe16a5",
   "metadata": {},
   "outputs": [],
   "source": [
    "from lib.model import resnet18_group\n"
   ]
  },
  {
   "cell_type": "code",
   "execution_count": 3,
   "id": "026459ed-f87b-4ec1-b2f0-606c76080c98",
   "metadata": {},
   "outputs": [],
   "source": [
    "model = resnet18_group(pretrained=False)"
   ]
  },
  {
   "cell_type": "code",
   "execution_count": 4,
   "id": "212bb2f0-c787-4fb6-b957-fc2a19abb18f",
   "metadata": {},
   "outputs": [
    {
     "data": {
      "text/plain": [
       "torch.Size([2, 12, 112, 112])"
      ]
     },
     "execution_count": 4,
     "metadata": {},
     "output_type": "execute_result"
    }
   ],
   "source": [
    "x = torch.randn(2,3,224,224)\n",
    "B, C, H, W = x.shape\n",
    "x = x.view(B, C, 2, int(H/2), 2, int(W/2)).permute(0,1,2,4,3,5).contiguous().view(2,C*4,int(H/2),int(W/2))\n",
    "x.shape\n"
   ]
  },
  {
   "cell_type": "code",
   "execution_count": 5,
   "id": "7e6583fa-3fb7-48b4-94d9-a4f343ef5062",
   "metadata": {},
   "outputs": [
    {
     "name": "stdout",
     "output_type": "stream",
     "text": [
      "torch.Size([2, 512, 14, 14])\n",
      "torch.Size([2, 256, 14, 14])\n",
      "torch.Size([2, 512, 7, 7])\n"
     ]
    }
   ],
   "source": [
    "out = model(x)"
   ]
  },
  {
   "cell_type": "code",
   "execution_count": 1,
   "id": "09597c93-9662-4a8d-8fc5-ed46d14a1cbd",
   "metadata": {},
   "outputs": [],
   "source": [
    "# model"
   ]
  },
  {
   "cell_type": "code",
   "execution_count": 3,
   "id": "124ff41e-60a4-467a-94a6-6929727c593e",
   "metadata": {},
   "outputs": [],
   "source": [
    "import torch\n",
    "drop_path_rate = 0.1\n",
    "depth=8\n",
    "dpr = [x.item() for x in torch.linspace(0, drop_path_rate, depth)]"
   ]
  },
  {
   "cell_type": "code",
   "execution_count": 4,
   "id": "18a01db1-ee54-402a-b397-c1c19057cdf2",
   "metadata": {},
   "outputs": [
    {
     "data": {
      "text/plain": [
       "[0.0,\n",
       " 0.014285714365541935,\n",
       " 0.02857142873108387,\n",
       " 0.04285714402794838,\n",
       " 0.05714285746216774,\n",
       " 0.0714285746216774,\n",
       " 0.08571428805589676,\n",
       " 0.10000000149011612]"
      ]
     },
     "execution_count": 4,
     "metadata": {},
     "output_type": "execute_result"
    }
   ],
   "source": [
    "dpr"
   ]
  },
  {
   "cell_type": "code",
   "execution_count": 7,
   "id": "60f30584-a50d-4129-86ee-ce53c7d4c130",
   "metadata": {},
   "outputs": [
    {
     "data": {
      "text/plain": [
       "tensor([[0.0100, 0.0100, 0.0100],\n",
       "        [0.0100, 0.0100, 0.0100]])"
      ]
     },
     "execution_count": 7,
     "metadata": {},
     "output_type": "execute_result"
    }
   ],
   "source": [
    "import torch\n",
    "torch.ones((2,3)) * 0.01"
   ]
  },
  {
   "cell_type": "code",
   "execution_count": 10,
   "id": "2338965a-7be8-472b-bd76-7fbaa944a070",
   "metadata": {},
   "outputs": [],
   "source": [
    "a = torch.tensor([[1,2,3], [1,1,1]])\n",
    "b = torch.tensor([2,3,3])"
   ]
  },
  {
   "cell_type": "code",
   "execution_count": 11,
   "id": "85c7d7bd-4efb-4ed5-b30b-d0a792b6b904",
   "metadata": {},
   "outputs": [
    {
     "data": {
      "text/plain": [
       "tensor([[2, 6, 9],\n",
       "        [2, 3, 3]])"
      ]
     },
     "execution_count": 11,
     "metadata": {},
     "output_type": "execute_result"
    }
   ],
   "source": [
    "a*b"
   ]
  },
  {
   "cell_type": "code",
   "execution_count": 27,
   "id": "aa23672a-7f28-4bed-9f63-99adaaa28b0d",
   "metadata": {},
   "outputs": [],
   "source": [
    "import torch\n",
    "import torch.nn as nn\n",
    "class Sample(nn.Module):\n",
    "  def __init__(self):\n",
    "    super(Sample, self).__init__()\n",
    "    self.gamma = nn.Parameter(torch.randn((1,2)))\n",
    "  \n",
    "  def forward(self, x):\n",
    "    return self.gamma(x)"
   ]
  },
  {
   "cell_type": "code",
   "execution_count": 28,
   "id": "c28e2136-d771-48ef-b36b-799e763a363a",
   "metadata": {},
   "outputs": [],
   "source": [
    "net = Sample()"
   ]
  },
  {
   "cell_type": "code",
   "execution_count": 30,
   "id": "d52e3d2e-19a1-430c-ad65-9e7b444433f4",
   "metadata": {},
   "outputs": [
    {
     "data": {
      "text/plain": [
       "Parameter containing:\n",
       "tensor([[0.6556, 0.9246]], device='cuda:0', requires_grad=True)"
      ]
     },
     "execution_count": 30,
     "metadata": {},
     "output_type": "execute_result"
    }
   ],
   "source": [
    "net.gamma\n"
   ]
  },
  {
   "cell_type": "code",
   "execution_count": 25,
   "id": "2eb4a13f-8742-4e50-b574-702a3e8254b1",
   "metadata": {},
   "outputs": [
    {
     "data": {
      "text/plain": [
       "Sample()"
      ]
     },
     "execution_count": 25,
     "metadata": {},
     "output_type": "execute_result"
    }
   ],
   "source": [
    "net.cuda()"
   ]
  },
  {
   "cell_type": "code",
   "execution_count": 26,
   "id": "25c290b0-34e9-4316-b392-fa3c85a4a21e",
   "metadata": {},
   "outputs": [
    {
     "data": {
      "text/plain": [
       "tensor([ 0.7511,  0.1289, -0.0291,  1.1733,  0.9194], device='cuda:0')"
      ]
     },
     "execution_count": 26,
     "metadata": {},
     "output_type": "execute_result"
    }
   ],
   "source": []
  },
  {
   "cell_type": "code",
   "execution_count": null,
   "id": "8d4b1338-f597-4bdf-b8ac-04df971d56b6",
   "metadata": {},
   "outputs": [],
   "source": []
  }
 ],
 "metadata": {
  "kernelspec": {
   "display_name": "pytorch",
   "language": "python",
   "name": "pytorch"
  },
  "language_info": {
   "codemirror_mode": {
    "name": "ipython",
    "version": 3
   },
   "file_extension": ".py",
   "mimetype": "text/x-python",
   "name": "python",
   "nbconvert_exporter": "python",
   "pygments_lexer": "ipython3",
   "version": "3.8.11"
  }
 },
 "nbformat": 4,
 "nbformat_minor": 5
}
