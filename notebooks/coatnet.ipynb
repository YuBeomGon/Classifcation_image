{
 "cells": [
  {
   "cell_type": "code",
   "execution_count": 1,
   "id": "a4792056-16b9-4121-9e4e-262382ad26c4",
   "metadata": {},
   "outputs": [],
   "source": [
    "from torch import nn, sqrt\n",
    "import torch\n",
    "import sys\n",
    "from math import sqrt\n",
    "\n",
    "import sys\n",
    "sys.path.append('../')\n",
    "\n",
    "from CoAtNet import CoAtNet"
   ]
  },
  {
   "cell_type": "code",
   "execution_count": 2,
   "id": "b164bc8e-6e89-46c7-9bd3-ecfefb46f8fc",
   "metadata": {},
   "outputs": [
    {
     "name": "stdout",
     "output_type": "stream",
     "text": [
      "torch.Size([2, 1000])\n"
     ]
    }
   ],
   "source": [
    "x=torch.randn(2,3,224,224)\n",
    "coatnet=CoAtNet(3,224)\n",
    "out = coatnet(x)\n",
    "print(out.shape)"
   ]
  },
  {
   "cell_type": "code",
   "execution_count": 3,
   "id": "4028643a-8526-4ce6-bf9c-2a147043b50f",
   "metadata": {},
   "outputs": [],
   "source": [
    "# Data loading code\n",
    "import os\n",
    "import torchvision.transforms as transforms\n",
    "import torchvision.datasets as datasets\n",
    "\n",
    "path = '../ILSVRC/Data/CLS-LOC/'\n",
    "traindir = os.path.join(path, 'train')\n",
    "valdir = os.path.join(path, 'val')\n",
    "normalize = transforms.Normalize(mean=[0.485, 0.456, 0.406],\n",
    "                                 std=[0.229, 0.224, 0.225])\n",
    "\n",
    "train_dataset = datasets.ImageFolder(\n",
    "    traindir,\n",
    "    transforms.Compose([\n",
    "        transforms.RandomResizedCrop(224),\n",
    "        transforms.RandomHorizontalFlip(),\n",
    "        transforms.ToTensor(),\n",
    "        normalize,\n",
    "    ]))"
   ]
  },
  {
   "cell_type": "code",
   "execution_count": 11,
   "id": "9264af8b-2654-4310-9154-b400852acd02",
   "metadata": {},
   "outputs": [],
   "source": [
    "# train_sampler = torch.utils.data.distributed.DistributedSampler(train_dataset)\n",
    "train_sampler = None\n",
    "train_loader = torch.utils.data.DataLoader(\n",
    "    train_dataset, batch_size=32, shuffle=(train_sampler is None),\n",
    "    num_workers=4, pin_memory=True, sampler=train_sampler)"
   ]
  },
  {
   "cell_type": "code",
   "execution_count": 12,
   "id": "e907f65f-0bd1-442a-a8cb-ba0a0e54f3a7",
   "metadata": {},
   "outputs": [],
   "source": [
    "# (train_sampler is None)"
   ]
  },
  {
   "cell_type": "code",
   "execution_count": 13,
   "id": "b3814464-5627-46a8-99f8-f3caa67dd9f0",
   "metadata": {},
   "outputs": [],
   "source": [
    "images, labels = next(iter(train_loader))"
   ]
  },
  {
   "cell_type": "code",
   "execution_count": 14,
   "id": "8543651a-92f7-4632-ac3e-b6c216307add",
   "metadata": {},
   "outputs": [],
   "source": [
    "out = coatnet(images)"
   ]
  },
  {
   "cell_type": "code",
   "execution_count": 19,
   "id": "baab95f3-e403-4402-9e46-c824abe5c390",
   "metadata": {},
   "outputs": [],
   "source": [
    "# labels"
   ]
  },
  {
   "cell_type": "code",
   "execution_count": 16,
   "id": "e3666ba3-dbf3-4dad-b9c4-cc9262ffd8e6",
   "metadata": {},
   "outputs": [
    {
     "name": "stdout",
     "output_type": "stream",
     "text": [
      "torch.Size([32, 1000])\n"
     ]
    }
   ],
   "source": [
    "print(out.shape)"
   ]
  },
  {
   "cell_type": "code",
   "execution_count": 17,
   "id": "5fe96f55-d501-4f0a-b98d-2f5d6f4f2db1",
   "metadata": {},
   "outputs": [
    {
     "data": {
      "text/plain": [
       "tensor([178, 178, 178, 178, 178, 178, 178, 178, 178, 178, 178, 178, 178, 178,\n",
       "        178, 178, 178, 178, 178, 178, 178, 178, 178, 178, 178, 178, 178, 178,\n",
       "        178, 178, 178, 178])"
      ]
     },
     "execution_count": 17,
     "metadata": {},
     "output_type": "execute_result"
    }
   ],
   "source": [
    "torch.argmax(out, dim = -1)"
   ]
  },
  {
   "cell_type": "code",
   "execution_count": null,
   "id": "b898b7a9-b5f5-478a-ad50-ee3a6ecfe6bf",
   "metadata": {},
   "outputs": [],
   "source": [
    "# define loss function (criterion) and optimizer\n",
    "criterion = nn.CrossEntropyLoss().cuda(args.gpu)\n",
    "\n",
    "optimizer = torch.optim.SGD(model.parameters(), args.lr,\n",
    "                            momentum=args.momentum,\n",
    "                            weight_decay=args.weight_decay)"
   ]
  }
 ],
 "metadata": {
  "kernelspec": {
   "display_name": "pytorch",
   "language": "python",
   "name": "pytorch"
  },
  "language_info": {
   "codemirror_mode": {
    "name": "ipython",
    "version": 3
   },
   "file_extension": ".py",
   "mimetype": "text/x-python",
   "name": "python",
   "nbconvert_exporter": "python",
   "pygments_lexer": "ipython3",
   "version": "3.8.11"
  }
 },
 "nbformat": 4,
 "nbformat_minor": 5
}
