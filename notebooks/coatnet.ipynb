{
 "cells": [
  {
   "cell_type": "code",
   "execution_count": 1,
   "id": "a4792056-16b9-4121-9e4e-262382ad26c4",
   "metadata": {},
   "outputs": [],
   "source": [
    "from torch import nn, sqrt\n",
    "import torch\n",
    "import sys\n",
    "from math import sqrt\n",
    "\n",
    "import sys\n",
    "sys.path.append('../')\n",
    "\n",
    "from CoAtNet import CoAtNet"
   ]
  },
  {
   "cell_type": "code",
   "execution_count": 2,
   "id": "b164bc8e-6e89-46c7-9bd3-ecfefb46f8fc",
   "metadata": {},
   "outputs": [
    {
     "name": "stdout",
     "output_type": "stream",
     "text": [
      "torch.Size([2, 1000])\n"
     ]
    }
   ],
   "source": [
    "x=torch.randn(2,3,224,224)\n",
    "coatnet=CoAtNet(3,224)\n",
    "out = coatnet(x)\n",
    "print(out.shape)"
   ]
  },
  {
   "cell_type": "code",
   "execution_count": null,
   "id": "4028643a-8526-4ce6-bf9c-2a147043b50f",
   "metadata": {},
   "outputs": [],
   "source": []
  }
 ],
 "metadata": {
  "kernelspec": {
   "display_name": "pytorch",
   "language": "python",
   "name": "pytorch"
  },
  "language_info": {
   "codemirror_mode": {
    "name": "ipython",
    "version": 3
   },
   "file_extension": ".py",
   "mimetype": "text/x-python",
   "name": "python",
   "nbconvert_exporter": "python",
   "pygments_lexer": "ipython3",
   "version": "3.8.11"
  }
 },
 "nbformat": 4,
 "nbformat_minor": 5
}
